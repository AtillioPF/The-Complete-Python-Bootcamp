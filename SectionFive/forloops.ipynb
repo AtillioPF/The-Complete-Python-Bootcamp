{
 "cells": [
  {
   "cell_type": "code",
   "execution_count": 1,
   "metadata": {},
   "outputs": [
    {
     "name": "stdout",
     "output_type": "stream",
     "text": [
      "w\n",
      "o\n",
      "r\n",
      "d\n"
     ]
    }
   ],
   "source": [
    "for letter in 'word':\n",
    "    print(letter) "
   ]
  },
  {
   "cell_type": "code",
   "execution_count": 5,
   "metadata": {},
   "outputs": [
    {
     "name": "stdout",
     "output_type": "stream",
     "text": [
      "1.1558473996492382\n",
      "2.2617334355293357\n",
      "3.162683818213898\n",
      "4.7545148872177325\n",
      "5.137957831922793\n",
      "6.014664980373773\n",
      "7.9118344532545235\n",
      "8.195558303264946\n",
      "9.023848392150834\n",
      "10.619130739263063\n"
     ]
    }
   ],
   "source": [
    "my_list = [1, 2, 3, 4, 5, 6, 7, 8, 9, 10]\n",
    "import random\n",
    "for number in my_list:\n",
    "    print(number + random.random())    "
   ]
  },
  {
   "cell_type": "code",
   "execution_count": 7,
   "metadata": {},
   "outputs": [
    {
     "name": "stdout",
     "output_type": "stream",
     "text": [
      "2\n",
      "4\n",
      "6\n",
      "8\n",
      "10\n"
     ]
    }
   ],
   "source": [
    "for number in my_list:\n",
    "    # Check for even\n",
    "    if number % 2 == 0:\n",
    "        print(number)"
   ]
  },
  {
   "cell_type": "code",
   "execution_count": 9,
   "metadata": {},
   "outputs": [
    {
     "name": "stdout",
     "output_type": "stream",
     "text": [
      "55\n"
     ]
    }
   ],
   "source": [
    "list_sum = 0\n",
    "for num in my_list:\n",
    "    list_sum += num\n",
    "print(list_sum)"
   ]
  },
  {
   "cell_type": "code",
   "execution_count": 10,
   "metadata": {},
   "outputs": [
    {
     "name": "stdout",
     "output_type": "stream",
     "text": [
      "1\n",
      "2\n",
      "3\n",
      "4\n",
      "5\n"
     ]
    }
   ],
   "source": [
    "tup = (1,2,3,4,5)\n",
    "\n",
    "for item in tup:\n",
    "    print(item)\n",
    "    "
   ]
  },
  {
   "cell_type": "code",
   "execution_count": 14,
   "metadata": {},
   "outputs": [
    {
     "name": "stdout",
     "output_type": "stream",
     "text": [
      "This is a-> 1 and this is b-> 2\n",
      "This is a-> 3 and this is b-> 4\n",
      "This is a-> 5 and this is b-> 6\n",
      "This is a-> 7 and this is b-> 8\n",
      "This is a-> 9 and this is b-> 10\n"
     ]
    }
   ],
   "source": [
    "my_list_two = [(1,2),(3,4),(5,6),(7,8),(9,10)]\n",
    "# Unpack items from a tuple inside a list (tuple unpacking)\n",
    "for a,b in my_list_two:\n",
    "    print(f'This is a-> {a} and this is b-> {b}')"
   ]
  },
  {
   "cell_type": "code",
   "execution_count": 16,
   "metadata": {},
   "outputs": [
    {
     "name": "stdout",
     "output_type": "stream",
     "text": [
      "Word\n",
      "Word\n",
      "Word\n",
      "Word\n",
      "Word\n"
     ]
    }
   ],
   "source": [
    "# Use the _ to say that the variable is not gonna be used, jsut to repeat the operation\n",
    "for _ in range(5):\n",
    "    print('Word')"
   ]
  },
  {
   "cell_type": "code",
   "execution_count": 18,
   "metadata": {},
   "outputs": [
    {
     "name": "stdout",
     "output_type": "stream",
     "text": [
      "1\n",
      "4\n",
      "7\n"
     ]
    }
   ],
   "source": [
    "my_list = [(1,2,3), (4,5,6), (7,8,9)]\n",
    "for a,b,c in my_list:\n",
    "    print(a)"
   ]
  },
  {
   "cell_type": "code",
   "execution_count": 22,
   "metadata": {},
   "outputs": [
    {
     "name": "stdout",
     "output_type": "stream",
     "text": [
      "k1\n",
      "k2\n",
      "k3\n",
      "1\n",
      "2\n",
      "3\n",
      "key = k1, value = 1\n",
      "key = k2, value = 2\n",
      "key = k3, value = 3\n"
     ]
    }
   ],
   "source": [
    "# iterate with dicationaries\n",
    "my_dict = {'k1':1, 'k2':2, 'k3':3}\n",
    "# iterate the keys is the default\n",
    "for key in my_dict:\n",
    "    print(key)\n",
    "    \n",
    "# iterate over the values\n",
    "for value in my_dict.values():\n",
    "    print(value)\n",
    "\n",
    "# iterate over the keys and the values with tuple unpacking\n",
    "for key, value in my_dict.items():\n",
    "    print(f'key = {key}, value = {value}')"
   ]
  }
 ],
 "metadata": {
  "kernelspec": {
   "display_name": "Python 3",
   "language": "python",
   "name": "python3"
  },
  "language_info": {
   "codemirror_mode": {
    "name": "ipython",
    "version": 3
   },
   "file_extension": ".py",
   "mimetype": "text/x-python",
   "name": "python",
   "nbconvert_exporter": "python",
   "pygments_lexer": "ipython3",
   "version": "3.11.3"
  }
 },
 "nbformat": 4,
 "nbformat_minor": 2
}
