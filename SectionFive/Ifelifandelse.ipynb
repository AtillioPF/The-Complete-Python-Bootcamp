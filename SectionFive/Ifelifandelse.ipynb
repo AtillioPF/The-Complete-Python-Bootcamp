{
 "cells": [
  {
   "cell_type": "code",
   "execution_count": 31,
   "metadata": {},
   "outputs": [
    {
     "name": "stdout",
     "output_type": "stream",
     "text": [
      "A\n",
      "Banana\n",
      "B\n"
     ]
    }
   ],
   "source": [
    "\n",
    "def check_a_b(a,b):\n",
    "    if a:\n",
    "        print('A')\n",
    "    elif b == 'banana':\n",
    "        print('Banana')\n",
    "    else: \n",
    "        print('B')\n",
    "check_a_b(True, 'banana')\n",
    "check_a_b(False, 'banana')\n",
    "check_a_b(False, 'not banana')"
   ]
  },
  {
   "cell_type": "code",
   "execution_count": 34,
   "metadata": {},
   "outputs": [
    {
     "name": "stdout",
     "output_type": "stream",
     "text": [
      "A Exists\n",
      "A is empty or null\n"
     ]
    }
   ],
   "source": [
    "a = ['a list', 'with data']\n",
    "if a: # checks if a exists and is not null or empty\n",
    "    print('A Exists')\n",
    "a = []\n",
    "if not a: # checks if a exists and is not null or empty\n",
    "    print('A is empty or null')"
   ]
  },
  {
   "cell_type": "code",
   "execution_count": null,
   "metadata": {},
   "outputs": [],
   "source": []
  }
 ],
 "metadata": {
  "kernelspec": {
   "display_name": "Python 3",
   "language": "python",
   "name": "python3"
  },
  "language_info": {
   "codemirror_mode": {
    "name": "ipython",
    "version": 3
   },
   "file_extension": ".py",
   "mimetype": "text/x-python",
   "name": "python",
   "nbconvert_exporter": "python",
   "pygments_lexer": "ipython3",
   "version": "3.11.3"
  }
 },
 "nbformat": 4,
 "nbformat_minor": 2
}
