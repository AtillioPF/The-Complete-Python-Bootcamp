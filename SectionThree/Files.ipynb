{
 "cells": [
  {
   "cell_type": "code",
   "execution_count": 2,
   "metadata": {},
   "outputs": [],
   "source": [
    "myFile = open('testFile.txt')"
   ]
  },
  {
   "cell_type": "code",
   "execution_count": 3,
   "metadata": {},
   "outputs": [
    {
     "data": {
      "text/plain": [
       "'c:\\\\Users\\\\atill\\\\Documents\\\\Pessoal\\\\Personal Study\\\\Python\\\\Udemy\\\\The Complete Python Bootcamp\\\\SectionThree'"
      ]
     },
     "execution_count": 3,
     "metadata": {},
     "output_type": "execute_result"
    }
   ],
   "source": [
    "pwd"
   ]
  },
  {
   "cell_type": "code",
   "execution_count": 4,
   "metadata": {},
   "outputs": [
    {
     "data": {
      "text/plain": [
       "'Hello This is a text file\\nFirst line\\nSecond line\\nLast line\\n'"
      ]
     },
     "execution_count": 4,
     "metadata": {},
     "output_type": "execute_result"
    }
   ],
   "source": [
    "myFile.read()"
   ]
  },
  {
   "cell_type": "code",
   "execution_count": 5,
   "metadata": {},
   "outputs": [
    {
     "data": {
      "text/plain": [
       "''"
      ]
     },
     "execution_count": 5,
     "metadata": {},
     "output_type": "execute_result"
    }
   ],
   "source": [
    "myFile.read()"
   ]
  },
  {
   "cell_type": "code",
   "execution_count": 7,
   "metadata": {},
   "outputs": [
    {
     "data": {
      "text/plain": [
       "'Hello This is a text file\\nFirst line\\nSecond line\\nLast line\\n'"
      ]
     },
     "execution_count": 7,
     "metadata": {},
     "output_type": "execute_result"
    }
   ],
   "source": [
    "myFile.seek(0)\n",
    "contents = myFile.read()\n",
    "contents"
   ]
  },
  {
   "cell_type": "code",
   "execution_count": 9,
   "metadata": {},
   "outputs": [
    {
     "data": {
      "text/plain": [
       "['Hello This is a text file\\n', 'First line\\n', 'Second line\\n', 'Last line\\n']"
      ]
     },
     "execution_count": 9,
     "metadata": {},
     "output_type": "execute_result"
    }
   ],
   "source": [
    "myFile.seek(0)\n",
    "lines = myFile.readlines()\n",
    "lines"
   ]
  },
  {
   "cell_type": "code",
   "execution_count": 10,
   "metadata": {},
   "outputs": [],
   "source": [
    "myFile.close()"
   ]
  },
  {
   "cell_type": "code",
   "execution_count": 12,
   "metadata": {},
   "outputs": [
    {
     "name": "stdout",
     "output_type": "stream",
     "text": [
      "['Hello This is a text file\\n', 'First line\\n', 'Second line\\n', 'Last line\\n']\n"
     ]
    }
   ],
   "source": [
    "with open('testFile.txt') as myFile:\n",
    "    contents = myFile.readlines()\n",
    "    print(contents)"
   ]
  },
  {
   "cell_type": "code",
   "execution_count": 13,
   "metadata": {},
   "outputs": [
    {
     "data": {
      "text/plain": [
       "'First line\\n'"
      ]
     },
     "execution_count": 13,
     "metadata": {},
     "output_type": "execute_result"
    }
   ],
   "source": [
    "contents[1]"
   ]
  },
  {
   "cell_type": "code",
   "execution_count": 14,
   "metadata": {},
   "outputs": [
    {
     "name": "stdout",
     "output_type": "stream",
     "text": [
      "['Hello This is a text file\\n', 'First line\\n', 'Second line\\n', 'Last line\\n']\n"
     ]
    }
   ],
   "source": [
    "with open('testFile.txt', mode='r') as myFile:\n",
    "    contents = myFile.readlines()\n",
    "    print(contents)"
   ]
  },
  {
   "cell_type": "code",
   "execution_count": 17,
   "metadata": {},
   "outputs": [
    {
     "name": "stdout",
     "output_type": "stream",
     "text": [
      "['Hello This is a text file\\n', 'First line\\n', 'Second line\\n', 'Last line\\n', 'New line on the end of the fileNew line on the end of the file\\n', 'New line on the end of the file']\n"
     ]
    }
   ],
   "source": [
    "with open('testFile.txt', mode='a') as myFile:\n",
    "    contents = myFile.write('\\nNew line on the end of the file')\n",
    "with open('testFile.txt', mode='r') as myFile:\n",
    "    contents = myFile.readlines()\n",
    "    print(contents)"
   ]
  },
  {
   "cell_type": "code",
   "execution_count": 20,
   "metadata": {},
   "outputs": [
    {
     "name": "stdout",
     "output_type": "stream",
     "text": [
      "['This is a new file']\n"
     ]
    }
   ],
   "source": [
    "with open('newFile.txt', mode='w') as myFile:\n",
    "    contents = myFile.write('This is a new file')\n",
    "with open('newFile.txt', mode='r') as myFile:\n",
    "    contents = myFile.readlines()\n",
    "    print(contents)"
   ]
  },
  {
   "cell_type": "code",
   "execution_count": 4,
   "metadata": {},
   "outputs": [],
   "source": [
    "with open('newFile2.txt', mode='w') as myFile:\n",
    "    contents = myFile.write('This is a new file \\n This is a new file \\n This is a new file \\n This is a new file \\n This is a new file \\n This is a new file \\n This is a new file ')\n",
    "with open('newFile2.txt', mode='a') as myFile:\n",
    "    contents = myFile.write('This is a new file \\n This is a new file \\n This is a new file \\n This is a new file \\n This is a new file \\n This is a new file \\n This is a new file ')\n",
    "    contents = myFile.write('This is a new file \\n This is a new file \\n This is a new file \\n This is a new file \\n This is a new file \\n This is a new file \\n This is a new file ')\n",
    "    contents = myFile.write('This is a new file \\n This is a new file \\n This is a new file \\n This is a new file \\n This is a new file \\n This is a new file \\n This is a new file ')\n",
    "    contents = myFile.write('This is a new file \\n This is a new file \\n This is a new file \\n This is a new file \\n This is a new file \\n This is a new file \\n This is a new file ')\n",
    "    "
   ]
  }
 ],
 "metadata": {
  "kernelspec": {
   "display_name": "Python 3",
   "language": "python",
   "name": "python3"
  },
  "language_info": {
   "codemirror_mode": {
    "name": "ipython",
    "version": 3
   },
   "file_extension": ".py",
   "mimetype": "text/x-python",
   "name": "python",
   "nbconvert_exporter": "python",
   "pygments_lexer": "ipython3",
   "version": "3.11.3"
  },
  "orig_nbformat": 4
 },
 "nbformat": 4,
 "nbformat_minor": 2
}
